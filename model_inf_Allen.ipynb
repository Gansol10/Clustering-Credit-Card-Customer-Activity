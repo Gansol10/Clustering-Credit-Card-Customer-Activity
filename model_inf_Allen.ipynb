{
 "cells": [
  {
   "cell_type": "code",
   "execution_count": 1,
   "metadata": {},
   "outputs": [],
   "source": [
    "#Import Library\n",
    "import pandas as pd \n",
    "import numpy as np \n",
    "import pickle "
   ]
  },
  {
   "cell_type": "code",
   "execution_count": 2,
   "metadata": {},
   "outputs": [],
   "source": [
    "with open('model_scaler.pkl', 'rb') as file_1:\n",
    " scaler = pickle.load(file_1)"
   ]
  },
  {
   "cell_type": "code",
   "execution_count": 3,
   "metadata": {},
   "outputs": [],
   "source": [
    "with open('model_pca.pkl', 'rb') as file_2:\n",
    " pca = pickle.load(file_2)"
   ]
  },
  {
   "cell_type": "code",
   "execution_count": 4,
   "metadata": {},
   "outputs": [],
   "source": [
    "with open('km.pkl', 'rb') as file_3:\n",
    " km = pickle.load(file_3)"
   ]
  },
  {
   "cell_type": "code",
   "execution_count": 17,
   "metadata": {},
   "outputs": [
    {
     "data": {
      "text/html": [
       "<div>\n",
       "<style scoped>\n",
       "    .dataframe tbody tr th:only-of-type {\n",
       "        vertical-align: middle;\n",
       "    }\n",
       "\n",
       "    .dataframe tbody tr th {\n",
       "        vertical-align: top;\n",
       "    }\n",
       "\n",
       "    .dataframe thead th {\n",
       "        text-align: right;\n",
       "    }\n",
       "</style>\n",
       "<table border=\"1\" class=\"dataframe\">\n",
       "  <thead>\n",
       "    <tr style=\"text-align: right;\">\n",
       "      <th></th>\n",
       "      <th>CUST_ID</th>\n",
       "      <th>BALANCE</th>\n",
       "      <th>BALANCE_FREQUENCY</th>\n",
       "      <th>PURCHASES</th>\n",
       "      <th>ONEOFF_PURCHASES</th>\n",
       "      <th>INSTALLMENTS_PURCHASES</th>\n",
       "      <th>CASH_ADVANCE</th>\n",
       "      <th>PURCHASES_FREQUENCY</th>\n",
       "      <th>ONEOFF_PURCHASES_FREQUENCY</th>\n",
       "      <th>PURCHASES_INSTALLMENTS_FREQUENCY</th>\n",
       "      <th>CASH_ADVANCE_FREQUENCY</th>\n",
       "      <th>CASH_ADVANCE_TRX</th>\n",
       "      <th>PURCHASES_TRX</th>\n",
       "      <th>CREDIT_LIMIT</th>\n",
       "      <th>PAYMENTS</th>\n",
       "      <th>MINIMUM_PAYMENTS</th>\n",
       "      <th>PRC_FULL_PAYMENT</th>\n",
       "    </tr>\n",
       "  </thead>\n",
       "  <tbody>\n",
       "    <tr>\n",
       "      <th>0</th>\n",
       "      <td>60.0</td>\n",
       "      <td>440.613643</td>\n",
       "      <td>0.875</td>\n",
       "      <td>1150.0</td>\n",
       "      <td>306.0</td>\n",
       "      <td>98.07</td>\n",
       "      <td>2904.232221</td>\n",
       "      <td>0.125</td>\n",
       "      <td>0.125</td>\n",
       "      <td>0.454545</td>\n",
       "      <td>0.545455</td>\n",
       "      <td>10</td>\n",
       "      <td>8</td>\n",
       "      <td>12000.0</td>\n",
       "      <td>3029.380326</td>\n",
       "      <td>287.994171</td>\n",
       "      <td>0.0</td>\n",
       "    </tr>\n",
       "  </tbody>\n",
       "</table>\n",
       "</div>"
      ],
      "text/plain": [
       "   CUST_ID     BALANCE  BALANCE_FREQUENCY  PURCHASES  ONEOFF_PURCHASES  \\\n",
       "0     60.0  440.613643              0.875     1150.0             306.0   \n",
       "\n",
       "   INSTALLMENTS_PURCHASES  CASH_ADVANCE  PURCHASES_FREQUENCY  \\\n",
       "0                   98.07   2904.232221                0.125   \n",
       "\n",
       "   ONEOFF_PURCHASES_FREQUENCY  PURCHASES_INSTALLMENTS_FREQUENCY  \\\n",
       "0                       0.125                          0.454545   \n",
       "\n",
       "   CASH_ADVANCE_FREQUENCY  CASH_ADVANCE_TRX  PURCHASES_TRX  CREDIT_LIMIT  \\\n",
       "0                0.545455                10              8       12000.0   \n",
       "\n",
       "      PAYMENTS  MINIMUM_PAYMENTS  PRC_FULL_PAYMENT  \n",
       "0  3029.380326        287.994171               0.0  "
      ]
     },
     "execution_count": 17,
     "metadata": {},
     "output_type": "execute_result"
    }
   ],
   "source": [
    "df_inf= {\n",
    "    'CUST_ID':60.0000,\n",
    "    'BALANCE':440.613643,\n",
    "    'BALANCE_FREQUENCY':0.875000,\n",
    "    'PURCHASES':1150.0,\n",
    "    'ONEOFF_PURCHASES': 306.0,\n",
    "    'INSTALLMENTS_PURCHASES':98.07,\n",
    "    'CASH_ADVANCE':2904.232221\t,\n",
    "    'PURCHASES_FREQUENCY':0.125    ,\n",
    "    'ONEOFF_PURCHASES_FREQUENCY':0.125000\t,\n",
    "    'PURCHASES_INSTALLMENTS_FREQUENCY':0.454545,\n",
    "    'CASH_ADVANCE_FREQUENCY':0.545455,\n",
    "    'CASH_ADVANCE_TRX':10,\n",
    "    'PURCHASES_TRX':8,\n",
    "    'CREDIT_LIMIT':12000.0,\n",
    "    'PAYMENTS':3029.380326,\n",
    "    'MINIMUM_PAYMENTS':287.994171, \n",
    "    'PRC_FULL_PAYMENT':0.000,\n",
    "    \n",
    "}\n",
    "df_inf = pd.DataFrame([df_inf])\n",
    "df_inf"
   ]
  },
  {
   "cell_type": "code",
   "execution_count": 18,
   "metadata": {},
   "outputs": [],
   "source": [
    "# scaler\n",
    "df_scaled = scaler.transform(df_inf)\n",
    "\n",
    "# reduce PCA\n",
    "df_pca = pca.transform(df_scaled)\n",
    "\n",
    "# model Kmeans\n",
    "pred = km.predict(df_pca)\n",
    "\n",
    "# tambahkan kolom cluster\n",
    "df_inf['cluster'] = pred"
   ]
  },
  {
   "cell_type": "code",
   "execution_count": 19,
   "metadata": {},
   "outputs": [
    {
     "name": "stdout",
     "output_type": "stream",
     "text": [
      "Credit User ini termasuk pada CLUSTER: 0\n"
     ]
    }
   ],
   "source": [
    "print('Credit User ini termasuk pada CLUSTER:', round(pred[0],2))"
   ]
  }
 ],
 "metadata": {
  "kernelspec": {
   "display_name": "base",
   "language": "python",
   "name": "python3"
  },
  "language_info": {
   "codemirror_mode": {
    "name": "ipython",
    "version": 3
   },
   "file_extension": ".py",
   "mimetype": "text/x-python",
   "name": "python",
   "nbconvert_exporter": "python",
   "pygments_lexer": "ipython3",
   "version": "3.11.5"
  }
 },
 "nbformat": 4,
 "nbformat_minor": 2
}
